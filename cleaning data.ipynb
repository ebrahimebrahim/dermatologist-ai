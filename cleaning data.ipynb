{
 "cells": [
  {
   "cell_type": "code",
   "execution_count": 1,
   "metadata": {},
   "outputs": [],
   "source": [
    "from PIL import Image\n",
    "from glob import glob\n",
    "import numpy as np\n",
    "import os\n",
    "from tqdm import tqdm"
   ]
  },
  {
   "cell_type": "code",
   "execution_count": 2,
   "metadata": {},
   "outputs": [],
   "source": [
    "files = np.array(glob('data/train/*/*'))"
   ]
  },
  {
   "cell_type": "code",
   "execution_count": 3,
   "metadata": {},
   "outputs": [
    {
     "name": "stderr",
     "output_type": "stream",
     "text": [
      "100%|██████████| 2000/2000 [04:54<00:00,  7.38it/s]\n"
     ]
    }
   ],
   "source": [
    "for dirname in glob('data/train/*'): os.makedirs(dirname.replace('train','train_cleaned'))\n",
    "for file in tqdm(files):\n",
    "    img = Image.open(file).convert('RGB')\n",
    "    img.resize((128,128)).save(file.replace('train','train_cleaned'))"
   ]
  },
  {
   "cell_type": "code",
   "execution_count": 4,
   "metadata": {},
   "outputs": [],
   "source": [
    "files = np.array(glob('data/valid/*/*'))"
   ]
  },
  {
   "cell_type": "code",
   "execution_count": 5,
   "metadata": {
    "scrolled": true
   },
   "outputs": [
    {
     "name": "stderr",
     "output_type": "stream",
     "text": [
      "100%|██████████| 150/150 [00:39<00:00,  4.77it/s]\n"
     ]
    }
   ],
   "source": [
    "for dirname in glob('data/valid/*'): os.makedirs(dirname.replace('valid','valid_cleaned'))\n",
    "for file in tqdm(files):\n",
    "    img = Image.open(file).convert('RGB')\n",
    "    img.resize((128,128)).save(file.replace('valid','valid_cleaned'))"
   ]
  }
 ],
 "metadata": {
  "kernelspec": {
   "display_name": "Python 3",
   "language": "python",
   "name": "python3"
  },
  "language_info": {
   "codemirror_mode": {
    "name": "ipython",
    "version": 3
   },
   "file_extension": ".py",
   "mimetype": "text/x-python",
   "name": "python",
   "nbconvert_exporter": "python",
   "pygments_lexer": "ipython3",
   "version": "3.6.8"
  }
 },
 "nbformat": 4,
 "nbformat_minor": 2
}
